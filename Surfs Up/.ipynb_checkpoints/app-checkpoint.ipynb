{
 "cells": [
  {
   "cell_type": "code",
   "execution_count": 127,
   "id": "64370ded",
   "metadata": {},
   "outputs": [],
   "source": [
    "#import dependencies \n",
    "\n",
    "import numpy as np\n",
    "import sqlalchemy\n",
    "from sqlalchemy.ext.automap import automap_base\n",
    "from sqlalchemy.orm import Session\n",
    "from sqlalchemy import create_engine, func,inspect, distinct\n",
    "import datetime as dt\n",
    "\n",
    "from flask import Flask, jsonify"
   ]
  },
  {
   "cell_type": "code",
   "execution_count": 128,
   "id": "96b49737",
   "metadata": {},
   "outputs": [],
   "source": [
    "#Database Set-up \n",
    "engine = create_engine(\"sqlite:///Resources/hawaii.sqlite\")"
   ]
  },
  {
   "cell_type": "code",
   "execution_count": 129,
   "id": "08c34c96",
   "metadata": {},
   "outputs": [],
   "source": [
    "#Reflect database \n",
    "Base = automap_base()"
   ]
  },
  {
   "cell_type": "code",
   "execution_count": 130,
   "id": "3e97da53",
   "metadata": {},
   "outputs": [],
   "source": [
    "#Reflect tables \n",
    "Base.prepare(engine, reflect=True)"
   ]
  },
  {
   "cell_type": "code",
   "execution_count": 131,
   "id": "215e7917",
   "metadata": {},
   "outputs": [],
   "source": [
    "# Save references to each table\n",
    "Measurement = Base.classes.measurement\n",
    "Station = Base.classes.station"
   ]
  },
  {
   "cell_type": "code",
   "execution_count": 132,
   "id": "1a154e50",
   "metadata": {},
   "outputs": [],
   "source": [
    "#Part 1: Flask Set-up & Start at the Homepage. \n",
    "app = Flask(__name__)"
   ]
  },
  {
   "cell_type": "code",
   "execution_count": 133,
   "id": "f349724e",
   "metadata": {},
   "outputs": [],
   "source": [
    "#Part 1: List All available routes \n",
    "@app.route(\"/\")\n",
    "def home(): \n",
    "    routes = (\n",
    "        \"/api/v1.0/precipitation<br>\"\n",
    "        \"/api/v1.0/stations<br>\"\n",
    "        \"/api/v1.0/tobs<br>\"\n",
    "        \"/api/v1.0/&lt;start&gt;/&lt;end&gt;<br>\")\n",
    "    return routes"
   ]
  },
  {
   "cell_type": "code",
   "execution_count": 95,
   "id": "de1c594a",
   "metadata": {},
   "outputs": [],
   "source": [
    "#Part 2: Precipitation route. Convert the query results from your precipitation analysis (i.e. retrieve only the \n",
    "#last 12 months of data) to a dictionary using date as the key and prcp as the value\n",
    "\n",
    "\n",
    "@app.route(\"/api/v1.0/precipitation\")\n",
    "def precipitation():\n",
    "    print(\"Server requested climate app precipitation page...\")\n",
    "\n",
    "    #Create session from py to database and Query dataes/precipitation  \n",
    "    session = Session(engine)\n",
    "    prcp_data = session.query(Measurement.date, Measurement.prcp).all()\n",
    "\n",
    "    # close session\n",
    "    session.close()\n",
    "\n",
    "    # Query results to dictionary with date as the key and prcp as value.\n",
    "    prcp_dict = {} \n",
    "    for date, prcp in prcp_data:\n",
    "        prcp_dict[date] = prcp\n",
    "    \n",
    "    # Return a JSON list from the dataset.\n",
    "    return jsonify(prcp_dict)"
   ]
  },
  {
   "cell_type": "code",
   "execution_count": 134,
   "id": "5ff65351",
   "metadata": {},
   "outputs": [],
   "source": [
    "#Part 3: Stations route. \n",
    "@app.route(\"/api/v1.0/stations\")\n",
    "def stations():\n",
    "    \n",
    "    # Station list\n",
    "    session = Session(engine)\n",
    "    station_list = session.query(Measurement.station).distinct().all()\n",
    "    stations_list = list(np.ravel(station_list))\n",
    "    \n",
    "    # Return a JSON list of stations from the dataset.\n",
    "    return jsonify(stations_list)"
   ]
  },
  {
   "cell_type": "code",
   "execution_count": 135,
   "id": "bea17018",
   "metadata": {},
   "outputs": [],
   "source": [
    "#Part 4: Tobs. Query the dates and temperature observations of the most-active station for the previous year of data.\n",
    "\n",
    "#Find most active station for previous year \n",
    "\n",
    "@app.route(\"/api/v1.0/tobs\")\n",
    "def tobs():\n",
    "    \n",
    "    session = Session(engine)\n",
    "    last_date = session.query(Measurement.date).all()\n",
    "    last_date = last_date[-1][0]\n",
    "    last_date = dt.datetime.strptime(last_date, '%Y-%m-%d')\n",
    "    last_date = last_date.date()\n",
    "    one_year_date = last_date - dt.timedelta(days=365)\n",
    "    \n",
    "    # Query previous year Tobs\n",
    "    prev_year= session.query(Measurement.date, Measurement.tobs).\\\n",
    "        filter(Measurement.date > one_year_date).all()\n",
    "\n",
    "    # list of previous year data\n",
    "    tobs_list = []\n",
    "\n",
    "    for date, tobs in prev_year:\n",
    "        tobs_dict = {}\n",
    "        tobs_dict[date] = tobs\n",
    "        tobs_list.append(tobs_dict) \n",
    "\n",
    "    #Close Session \n",
    "    session.close()\n",
    "\n",
    "    # Return a JSON list of Tobs from previous year from the dataset.\n",
    "    return jsonify(tobs_list)"
   ]
  },
  {
   "cell_type": "code",
   "execution_count": 136,
   "id": "09cb8abc",
   "metadata": {},
   "outputs": [],
   "source": [
    "#Part 5a: Return a JSON list of the minimum temperature, the average temperature, and the maximum temperature for \n",
    "#a specified start or start-end range.\n",
    "\n",
    "#For a specified start, calculate TMIN, TAVG, and TMAX for all the dates greater than or equal to the start date.\n",
    "\n",
    "@app.route('/api/v1.0/<start>')\n",
    "def start (start):\n",
    "    \n",
    "    #Query Tobs and dates\n",
    "    session = Session(enginer)\n",
    "    start_date = session.query(func.min(Measurement.date)).first()[0]\n",
    "    end_date = session.query(func.max(Measurement.date)).first()[0]\n",
    "    \n",
    "    #Identify first and last dates \n",
    "    if start >= start_date and start <= end_date:\n",
    "        temps = session.query(func.min(Measurement.tobs), func.avg(Measurement.tobs), func.max(Measurement.tobs)).\\\n",
    "            filter(Measurement.date >= start).filter(Measurement.date <= date_end).all()[0]\n",
    "        \n",
    "        return (\n",
    "            f\"Minimum Temperature: {temps[0]}</br>\"\n",
    "            f\"Average Temperature: {calc_temps[1]}</br>\"\n",
    "            f\"Maximum Temperature: {calc_temps[2]}\")\n",
    "    else: \n",
    "       #Return to JSON list of max, min, average TObs from a specified start date. \n",
    "        return jsonify()"
   ]
  },
  {
   "cell_type": "code",
   "execution_count": 137,
   "id": "07a1ed22",
   "metadata": {},
   "outputs": [],
   "source": [
    "#Part 5b: For a specified start date and end date, calculate TMIN, TAVG, and TMAX for the dates from the \n",
    "\n",
    "#For a start date to the end date, inclusive.\n",
    "\n",
    "@app.route(\"/api/v1.0/<start>/<end>\")\n",
    "def start_end_date (start=None, end=None):\n",
    "    \n",
    "    #Query dates and Tobs\n",
    "    session = Session(enginer)\n",
    "    start_date = session.query(func.min(Measurement.date)).first()[0]\n",
    "    end_date = session.query(func.max(Measurement.date)).first()[0]\n",
    "    \n",
    "    #Identify first and last dates \n",
    "    if start >= start_date and end <= end_date:\n",
    "        temps = session.query(func.min(Measurement.tobs), func.avg(Measurement.tobs), func.max(Measurement.tobs)).\\\n",
    "            filter(Measurement.date >= start).filter(Measurement.date <= date_end).all()[0]\n",
    "        \n",
    "        return (\n",
    "            f\"Minimum Temperature: {temps[0]}</br>\"\n",
    "            f\"Average Temperature: {calc_temps[1]}</br>\"\n",
    "            f\"Maximum Temperature: {calc_temps[2]}\")\n",
    "    else: \n",
    "         #Return to JSON list of max, min, average TOBs from specified start and end dates. \n",
    "        return jsonify()\n"
   ]
  },
  {
   "cell_type": "code",
   "execution_count": 139,
   "id": "a1045568",
   "metadata": {},
   "outputs": [],
   "source": [
    "if __name__==\"_main_\":\n",
    "    app.run()"
   ]
  },
  {
   "cell_type": "code",
   "execution_count": null,
   "id": "eb44ebe1",
   "metadata": {},
   "outputs": [],
   "source": []
  }
 ],
 "metadata": {
  "kernelspec": {
   "display_name": "Python 3 (ipykernel)",
   "language": "python",
   "name": "python3"
  },
  "language_info": {
   "codemirror_mode": {
    "name": "ipython",
    "version": 3
   },
   "file_extension": ".py",
   "mimetype": "text/x-python",
   "name": "python",
   "nbconvert_exporter": "python",
   "pygments_lexer": "ipython3",
   "version": "3.9.13"
  }
 },
 "nbformat": 4,
 "nbformat_minor": 5
}
